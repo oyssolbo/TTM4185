{
 "cells": [
  {
   "cell_type": "markdown",
   "metadata": {},
   "source": [
    "# Introduksjon til grafverktøy\n",
    "I denne delen skal vi bli kjent med de ulike python-modulene som skal brukes for å løse øving 3. Vi har laget et bibliotek som bygger på graftegnebiblioteket <code>networkx</code>. Alle klassene arver fra <code>networkx.Graph</code>, og dersom det er ønskelig finnes det mer detaljert dokumentasjon for dette biblioteket <a href=https://networkx.github.io/documentation/stable/reference/index.html target=\"_blank\">her</a>. Det er forventet at man har fullført Informasjonsteknologi grunnkurs før man tar dette faget, men dersom du ikke husker hvordan objektorientert kode i python fungerer kan man se på <a href=https://www.geeksforgeeks.org/object-oriented-programming-in-python-set-1-class-and-its-members/ target=\"_blank\">denne</a> tutorialen for helt grunnleggende veiledning. \n",
    "<p>Dette dokumentet er bare for at dere skal lære hvordan man bruker python modulene, og det skal ikke leveres inn. Lag gjerne deres egne celler rundt omkring i dokumentet for å teste koden med deres egne variabler. Eventuelt kan dere bare endre på det vi har skrevet. </p>\n",
    "\n",
    "## Graf-klassene\n",
    "Vi har laget følgende klasser for å representere de forskjellige grafene:\n",
    "<ol>\n",
    "    <li><code>Graph</code></li>\n",
    "    <li><code>BussGraph</code></li>\n",
    "    <li><code>TreeGraph</code></li>\n",
    "    <li><code>RingGraph</code></li>\n",
    "    <li><code>StarGraph</code></li>\n",
    "    <li><code>GridGraph</code></li>\n",
    "    <li><code>MeshGraph</code></li>\n",
    "    <li><code>WattsStrogatz</code></li>\n",
    "    <li><code>BarabasiAlbert</code></li>\n",
    "    <li><code>RealNetworkGraph</code></li>\n",
    "    <li><code>ConstructedGraph</code></li>\n",
    "    <li><code>VDESGraph</code></li>\n",
    "</ol>\n",
    "\n",
    "Før disse kan brukes må de importeres:"
   ]
  },
  {
   "cell_type": "code",
   "execution_count": null,
   "metadata": {},
   "outputs": [],
   "source": [
    "from graph_utils.graph import Graph, nx, plt\n",
    "from graph_utils.buss_graph import BussGraph\n",
    "from graph_utils.tree_graph import TreeGraph\n",
    "from graph_utils.ring_graph import RingGraph\n",
    "from graph_utils.star_graph import StarGraph\n",
    "from graph_utils.grid_graph import GridGraph\n",
    "from graph_utils.mesh_graph import MeshGraph\n",
    "from graph_utils.constructed_graph import ConstructedGraph\n",
    "from graph_utils.watts_strogatz import WattsStrogatz\n",
    "from graph_utils.barabasi_albert import BarabasiAlbert\n",
    "from graph_utils.real_network_graph import RealNetworkGraph\n",
    "from graph_utils.vdes_graph import VDESGraph"
   ]
  },
  {
   "cell_type": "markdown",
   "metadata": {},
   "source": [
    "## Graph\n",
    "##### Keyword Argument\n",
    "<ul>\n",
    "    <li>seed: seed som brukes når det skal gjøres random-operasjoner. Mer om dette senere. <br> <b>Merk:</b> for å bruke seeds må man sette den som et keyword argument. <code>Graph(5)</code> vil altså ikke sette seed til 5, men <code>Graph(seed=5)</code> vil fungere. Alle de forskjellige graf-klassene kan ta seed som keyword arguement.</li>\n",
    "</ul>\n",
    "Dette er den mest generelle klassen for graf-objekter. Denne klassen arver direkte fra <code>networkx.Graph</code> og har dermed alle de samme metodene som et <code>networkx.Graph</code> objekt. I tillegg har vi laget en del metoder som gir mer funksjonalitet. Alle de andre klassene fra 2 til 7 i listen over arver fra denne klassen og vil dermed ha alle metodene fra både <code>networkx.Graph</code> og vår egen <code>Graph</code>. Det kommer derfor veldig mye informasjon om metoder som kan brukes under seksjonen til <code>Graph</code>. Dette gjelder da også for alle de andre graf-objektene dersom ikke annet er eksplisitt forklart under seksjonen for den respektive grafen. \n",
    "<p>Vi begynner med å opprette et objekt, så kan vi se på metodene vi kan bruke på det. For å illustrere seeds har vi her printet et objekt med random generert seed og et med predefinert seed. Hvis man kjører koden under flere ganger vil man se at <code>graf</code> får forskjellig seed hver gang, mens <code>graf2</code> har 69420 hver gang.</p>"
   ]
  },
  {
   "cell_type": "code",
   "execution_count": null,
   "metadata": {},
   "outputs": [],
   "source": [
    "graf = Graph()\n",
    "graf2 = Graph(seed=69420)\n",
    "print(graf.seed)\n",
    "print(graf2.seed)"
   ]
  },
  {
   "cell_type": "markdown",
   "metadata": {},
   "source": [
    "<code>graf</code> er nå et tomt graf-objekt uten noen noder eller kanter. Vi begynner med å legge til noder."
   ]
  },
  {
   "cell_type": "markdown",
   "metadata": {},
   "source": [
    "### add_node()\n",
    "##### Parametere\n",
    "<ul>\n",
    "    <li>n: et objekt av en hvilken som helst datatype (det letteste er ofte å bruke <code>int</code>, men alt går).</li>\n",
    "</ul>\n",
    "For å legge til en enkelt node kan vi bruke metoden <code>add_node()</code>."
   ]
  },
  {
   "cell_type": "code",
   "execution_count": null,
   "metadata": {},
   "outputs": [],
   "source": [
    "graf.add_node(\"sikkerhet\")  # Her viser vi at string fungerer som id\n",
    "graf.add_node(2)"
   ]
  },
  {
   "cell_type": "markdown",
   "metadata": {},
   "source": [
    "### add_nodes_from() \n",
    "##### Parametere\n",
    "<ul>\n",
    "    <li>nodes: En liste med objekter som skal representere noder.</li>\n",
    "</ul>\n",
    "En annen måte å legge til noder på er ved å bruke metoden <code>add_nodes_from()</code>. Dette er den enkleste måten å legge til flere noder samtidig. "
   ]
  },
  {
   "cell_type": "code",
   "execution_count": null,
   "metadata": {},
   "outputs": [],
   "source": [
    "graf.add_nodes_from([\"robusthet\", 4, 5, 6])"
   ]
  },
  {
   "cell_type": "markdown",
   "metadata": {},
   "source": [
    "### add_edge()\n",
    "##### Parametere\n",
    "<ul>\n",
    "    <li>u_of_edge: ID til noden u for kanten (u, v).</li>\n",
    "    <li>u_of_edge: ID til noden v for kanten (u, v).</li>\n",
    "</ul>\n",
    "Grafen vi har laget til nå har ikke noen kanter. Vi kan legge de til ved å bruke metoden <code>add_edge()</code>."
   ]
  },
  {
   "cell_type": "code",
   "execution_count": null,
   "metadata": {},
   "outputs": [],
   "source": [
    "graf.add_edge(u_of_edge=\"sikkerhet\", v_of_edge=5)  # Kant fra noden \"sikkerhet\" til node 5\n",
    "graf.add_edge(\"sikkerhet\", \"robusthet\")"
   ]
  },
  {
   "cell_type": "markdown",
   "metadata": {},
   "source": [
    "### add_edges_from()\n",
    "##### Parametere\n",
    "<ul>\n",
    "    <li>ebunch_to_add: En liste med tupler bestående av nodeID-er.</li>\n",
    "</ul>\n",
    "Vi kan også legge til flere kanter på en gang ved å bruke metoden <code>add_edges_from()</code>."
   ]
  },
  {
   "cell_type": "code",
   "execution_count": null,
   "metadata": {},
   "outputs": [],
   "source": [
    "graf.add_edges_from(ebunch_to_add=\n",
    "    [\n",
    "        # Dette er litt av grunnen til at integere er lettest å bruke.\n",
    "        # Nå blir det en del å skrive og kan ikke automatiseres med for-loops.\n",
    "        (\"sikkerhet\", 2), \n",
    "        (5, \"robusthet\"), \n",
    "        (\"robusthet\", 2), \n",
    "        (\"sikkerhet\", 4), \n",
    "        (\"sikkerhet\", 6)\n",
    "    ]\n",
    ")"
   ]
  },
  {
   "cell_type": "markdown",
   "metadata": {},
   "source": [
    "### number_of_nodes()\n",
    "Vi kan se hvor mange noder en graf har ved å bruke metoden <code>number_of_nodes()</code>."
   ]
  },
  {
   "cell_type": "code",
   "execution_count": null,
   "metadata": {},
   "outputs": [],
   "source": [
    "print(graf.number_of_nodes())"
   ]
  },
  {
   "cell_type": "markdown",
   "metadata": {},
   "source": [
    "### number_of_edges()\n",
    "På samme måte kan vi se hvor mange kanter grafen har ved å bruke metoden <code>number_of_edges()</code>."
   ]
  },
  {
   "cell_type": "code",
   "execution_count": null,
   "metadata": {},
   "outputs": [],
   "source": [
    "print(graf.number_of_edges())"
   ]
  },
  {
   "cell_type": "code",
   "execution_count": null,
   "metadata": {},
   "outputs": [],
   "source": [
    "graf.draw()"
   ]
  },
  {
   "cell_type": "code",
   "execution_count": null,
   "metadata": {},
   "outputs": [],
   "source": [
    "print(graf.nodes)\n",
    "graf.mark_shortest_path(\"robusthet\", 6)"
   ]
  },
  {
   "cell_type": "code",
   "execution_count": null,
   "metadata": {},
   "outputs": [],
   "source": [
    "graf.mark_shortest_path(\"robusthet\", 6)"
   ]
  },
  {
   "cell_type": "markdown",
   "metadata": {},
   "source": [
    "### draw()\n",
    "##### Parametere\n",
    "<ul>\n",
    "    <li><code>node_color</code>: en string eller en liste med strings. Default <code>\"#1f78b4\"</code>. Dersom en liste blir gitt som argument må den være like lang som <code>number_of_nodes()</code></li>\n",
    "    <li><code>edge_color</code>: en string eller en liste med strings. Default <code>\"k\"</code>. Dersom en liste blir gitt som argument må den være like lang som <code>number_of_edges()</code></li>\n",
    "    <li><code>node_size</code>: en integer. Default <code>300</code></li>\n",
    "</ul>\n",
    "Vi kan tegne grafene vi lager. Dette gjøres med metoden <code>draw()</code>. I noen tilfeller kan det være interessant å kunne endre på noen av parametrene (for eksempel hvis man har en veldig stor graf kan det være greit å redusere <code>node_size</code>). <code>node_color</code> og <code>edge_color</code> kan bruke alle <a href=https://matplotlib.org/3.1.0/gallery/color/named_colors.html target=\"_blank\"> matplotlib sine named colors</a>, i tillegg til alle 24 bits hex-verdier for farger. <code>node_size</code> er en integer større enn 0. Her kommer noen eksempler på bruk."
   ]
  },
  {
   "cell_type": "code",
   "execution_count": null,
   "metadata": {
    "scrolled": false
   },
   "outputs": [],
   "source": [
    "graf.draw()\n",
    "graf.draw(node_size=50)\n",
    "graf.draw(node_color=\"#FA97FA\", node_size=3500, edge_color=\"red\")"
   ]
  },
  {
   "cell_type": "markdown",
   "metadata": {},
   "source": [
    "### get_shortest_path()\n",
    "##### Parametere\n",
    "<ul>\n",
    "    <li>node1: nodeID for startnoden i shortest path søket.</li>\n",
    "    <li>node2: nodeID for sluttnoden i shortest path søket.</li>\n",
    "</ul>\n",
    "Mange ganger kan det være interessant å finne korteste vei mellom to noder dette kan vi gjøre ved å bruke metoden <code>get_shortest_path()</code>. Den returnerer en liste med nodene som inngår i den korteste veien mellom start- og sluttnode. "
   ]
  },
  {
   "cell_type": "code",
   "execution_count": null,
   "metadata": {},
   "outputs": [],
   "source": [
    "shortest = graf.get_shortest_path(6, 2)\n",
    "print(shortest)\n",
    "\n",
    "F = Graph()\n",
    "F.add_nodes_from([1, 2])\n",
    "print(F.get_shortest_path(1, 2))  # Vil gi None siden vi ikke har noen edges"
   ]
  },
  {
   "cell_type": "markdown",
   "metadata": {},
   "source": [
    "### mark_shortest_path()\n",
    "##### Parametere\n",
    "<ul>\n",
    "    <li>node1: nodeID for startnoden i shortest path søket.</li>\n",
    "    <li>node2: nodeID for sluttnoden i shortest path søket.</li>\n",
    "</ul>\n",
    "Denne metoden fungerer veldig likt som <code>get_shortest_path()</code>, men i stedet for å returnere shortest path tegner den grafen med shortest path markert. "
   ]
  },
  {
   "cell_type": "code",
   "execution_count": null,
   "metadata": {},
   "outputs": [],
   "source": [
    "graf.mark_shortest_path(6, 4)"
   ]
  },
  {
   "cell_type": "markdown",
   "metadata": {},
   "source": [
    "### mark_nodes()\n",
    "##### Parametere\n",
    "<ul>\n",
    "    <li>mark_nodes: en liste med nodeID-er som skal markeres.</li>\n",
    "</ul>\n",
    "Dersom det er ønskelig å markere visse noder i en graf kan dette gjøres med metoden <code>mark_nodes()</code>. "
   ]
  },
  {
   "cell_type": "code",
   "execution_count": null,
   "metadata": {},
   "outputs": [],
   "source": [
    "graf.mark_nodes([\"robusthet\", 4, 6])"
   ]
  },
  {
   "cell_type": "markdown",
   "metadata": {},
   "source": [
    "### degree_centrality()\n",
    "For å finne degree centrality for hver node kan man bruke metoden <code>degree_centrality()</code>. Den returnerer en <code>dict</code> med nodeID som keys og degree centrality som values."
   ]
  },
  {
   "cell_type": "code",
   "execution_count": null,
   "metadata": {},
   "outputs": [],
   "source": [
    "print(graf.degree_centrality())\n",
    "\n",
    "# Eventuelt for å printe pent\n",
    "print()\n",
    "print(\"ID\".ljust(15), \"Degree\")\n",
    "for node, degree in graf.degree_centrality().items():\n",
    "    print(f\"Node {node}\".ljust(15), degree)"
   ]
  },
  {
   "cell_type": "markdown",
   "metadata": {},
   "source": [
    "### draw_degree_centrality()\n",
    "##### Parametere\n",
    "<ul>\n",
    "    <li>avg_size: en float som representerer gjennomsnittlig nodestørrelse. Default 300</li>\n",
    "</ul>\n",
    "Noen ganger kan det være interessant å tegne grafen der nodene har størrelser som tilsvarer degree centrality. Her kan det være man må prøve seg litt frem med argumenter for avg_size for å få en graf som ikke får for store eller for små noder til at det blir vanskelig å lese."
   ]
  },
  {
   "cell_type": "code",
   "execution_count": null,
   "metadata": {},
   "outputs": [],
   "source": [
    "graf.draw_degree_centrality()\n",
    "graf.draw_degree_centrality(avg_size=1000)"
   ]
  },
  {
   "cell_type": "markdown",
   "metadata": {},
   "source": [
    "### closeness_centrality()\n",
    "På samme måte som med <code>degree_centrality()</code> returnerer denne metoden også en <code>dict</code> med nodeID som key og closeness centrality som values. "
   ]
  },
  {
   "cell_type": "code",
   "execution_count": null,
   "metadata": {},
   "outputs": [],
   "source": [
    "print(graf.closeness_centrality())\n",
    "\n",
    "# Eventuelt for å printe pent\n",
    "print()\n",
    "print(\"ID\".ljust(15), \"Closeness\")\n",
    "for node, closeness in graf.closeness_centrality().items():\n",
    "    print(f\"Node {node}\".ljust(15), closeness)"
   ]
  },
  {
   "cell_type": "markdown",
   "metadata": {},
   "source": [
    "### draw_closeness_centrality()\n",
    "##### Parametere\n",
    "<ul>\n",
    "    <li>avg_size: en float som representerer gjennomsnittlig nodestørrelse. Default 300</li>\n",
    "</ul>\n",
    "Akkurat på samme måte som med <code>degree_centrality()</code> kan vi her også tegne grafen med ulike nodestørrelser basert på closeness centrality."
   ]
  },
  {
   "cell_type": "code",
   "execution_count": null,
   "metadata": {},
   "outputs": [],
   "source": [
    "graf.draw_closeness_centrality()\n",
    "graf.draw_closeness_centrality(1337)"
   ]
  },
  {
   "cell_type": "markdown",
   "metadata": {},
   "source": [
    "### betweenness_centrality()\n",
    "På samme som de to andre centrality indeksene kan vi også finne betweenness centrality."
   ]
  },
  {
   "cell_type": "code",
   "execution_count": null,
   "metadata": {},
   "outputs": [],
   "source": [
    "print(graf.betweenness_centrality())\n",
    "\n",
    "# Eventuelt for å printe pent\n",
    "print()\n",
    "print(\"ID\".ljust(15), \"Betweenness\")\n",
    "for node, betweenness in graf.betweenness_centrality().items():\n",
    "    print(f\"Node {node}\".ljust(15), betweenness)"
   ]
  },
  {
   "cell_type": "code",
   "execution_count": null,
   "metadata": {},
   "outputs": [],
   "source": [
    "graf.draw_betweenness_centrality()\n",
    "graf.draw_betweenness_centrality(420)"
   ]
  },
  {
   "cell_type": "markdown",
   "metadata": {},
   "source": [
    "### Histogram\n",
    "For å analysere en graf er hisogram over degree distribution ofte veldig hjelpsom. Vi kan plotte et histogram for degree distribution ved å bruke metoden <code>histogram()</code>. Denne metoden returnerer også en liste der hver indeks i listen representerer node degree og hvert element i listen representerer antall noder med respektiv node degree. Siden metoden returnerer noe vil outputen automatisk bli printet når man kaller funksjonen. For å forhindre dette kan vi bruke <code>;</code> for å suppresse outputen."
   ]
  },
  {
   "cell_type": "code",
   "execution_count": null,
   "metadata": {
    "scrolled": true
   },
   "outputs": [],
   "source": [
    "graf.histogram();  # Printer ikke listen som representerer histogrammet\n",
    "graf.histogram()  # Printer automatisk listen som representerer histogrammet"
   ]
  },
  {
   "cell_type": "code",
   "execution_count": null,
   "metadata": {},
   "outputs": [],
   "source": [
    "representasjon = graf.histogram() # Printer ikke listen som representerer histogrammet fordi outputen blir fanget opp i en variabel\n",
    "print(\"Dette blir printet fra print-funksjonen:\", representasjon, sep=\"\\n\")"
   ]
  },
  {
   "cell_type": "markdown",
   "metadata": {},
   "source": [
    "### get_largest_components_size()\n",
    "Det kan noen ganger være interessant å vite antall noder i den største sammenhengende komponenten til en graf. Dette kan gjøres med metoden <code>get_largest_components_size()</code>. Merk at denne funksjonen har ganske dårlig kjøretid så den kan ta relativt lang tid dersom den kalles på store grafer. "
   ]
  },
  {
   "cell_type": "code",
   "execution_count": null,
   "metadata": {},
   "outputs": [],
   "source": [
    "print(graf.get_largest_components_size())"
   ]
  },
  {
   "cell_type": "markdown",
   "metadata": {},
   "source": [
    "### remove_node()\n",
    "##### Parametere\n",
    "<ul>\n",
    "    <li>n: ID på noden som skal fjernes.</li>\n",
    "</ul>\n",
    "Hvis man ønsker å fjerne en node kan man gjøre det med metoden <code>remove_node()</code>. "
   ]
  },
  {
   "cell_type": "code",
   "execution_count": null,
   "metadata": {},
   "outputs": [],
   "source": [
    "graf.remove_node(2)\n",
    "graf.draw()"
   ]
  },
  {
   "cell_type": "markdown",
   "metadata": {},
   "source": [
    "### delete_nodes_attack()\n",
    "##### Parametere\n",
    "<ul>\n",
    "    <li>n: Antall noder som skal slettes.</li>\n",
    "    <li>centrality_index: En string som bestemmer hvilken centrality index som skal ligge til grunn når vi skal finne \"viktigste\" node. Gyldige verdier er <code>\"degree\"</code>, <code>\"closeness\"</code> og <code>\"betweenness\"</code>.</li>\n",
    "    <li>print_result: En <code>bool</code> som bestemmer om metoden skal printe hvilken node den sletter.</li>\n",
    "</ul>\n",
    "I løpet av øvingen ønsker vi å simulere forskjellige angrep på nettverkene vi kommer til å lage. Metoden <code>delete_nodes_attack()</code> lar oss angripe n antall noder med de n høyeste verdiene av variabelen centrality_index. Metoden returnerer en kopi av grafen som kaller på den, slik at den originale grafen mister ikke noder slik som med <code>remove_node()</code>. "
   ]
  },
  {
   "cell_type": "code",
   "execution_count": null,
   "metadata": {},
   "outputs": [],
   "source": [
    "ny_graf1 = graf.delete_nodes_attack(n=3, centrality_index=\"degree\", print_result=True)\n",
    "ny_graf1.draw()"
   ]
  },
  {
   "cell_type": "code",
   "execution_count": null,
   "metadata": {},
   "outputs": [],
   "source": [
    "ny_graf2 = graf.delete_nodes_attack(n=1, centrality_index=\"closeness\", print_result=False)\n",
    "ny_graf2.draw()"
   ]
  },
  {
   "cell_type": "markdown",
   "metadata": {},
   "source": [
    "### delete_random_nodes()\n",
    "##### Parametere\n",
    "<ul>\n",
    "    <li>n: Antall noder som skal slettes.</li>\n",
    "    <li>print_result: En <code>bool</code> som bestemmer om metoden skal printe hvilken node den sletter.</li>\n",
    "</ul>\n",
    "I nettverk i virkeligheten kan det skje tilfeldige feil med noder slik at de blir borte fra nettverket. Metoden <code>delete_random_nodes()</code> lar oss simulere dette. Den sletter n antall noder der den velger tilfeldige noder. (Den vil ikke slette ved å bruke \"ekte\" tilfeldighet. Den bruker en \"seeded random\". Mer om det kommer litt lenger ned). På samme måte som med <code>delete_nodes_attack()</code> returnerer også <code>delete_random_nodes()</code> av grafen som kaller på den."
   ]
  },
  {
   "cell_type": "code",
   "execution_count": null,
   "metadata": {},
   "outputs": [],
   "source": [
    "ny_graf_1 = graf.delete_random_nodes(1, print_result=True)\n",
    "ny_graf_1.draw()\n",
    "print(graf.number_of_nodes())  # Dette vil fortsatt være 5 selv om vi \"sletter\" en node\n",
    "\n",
    "ny_graf_2 = graf.delete_random_nodes(3, print_result=True)\n",
    "ny_graf_2.draw()"
   ]
  },
  {
   "cell_type": "markdown",
   "metadata": {},
   "source": [
    "## Litt om random og seeds\n",
    "Som nevnt i seksjonen om <code>delete_random_nodes()</code> bruker vi en seeded random for å utføre metoder som har med tilfeldighet å gjøre. Alle graf-objektene har en innebygd seed som blir brukt i alle metodene som bygger på tilfeldighet. Dette fører til at når et graf-objekt er instansiert vil random-metodene ha samme oppførsel selv om de blir kalt på flere ganger etter hverandre. Koden under demonstrerer hvordan seeded random fungerer. Vi får den samme sekvensen hver gang vi kaller på <code>random.randint()</code>."
   ]
  },
  {
   "cell_type": "code",
   "execution_count": null,
   "metadata": {},
   "outputs": [],
   "source": [
    "import random\n",
    "\n",
    "seed = 198\n",
    "for i in range(5):\n",
    "    random.seed(seed)\n",
    "    print(f\"{i + 1}. iterasjon: \")\n",
    "    for j in range(i + 1):\n",
    "        print(f\"{j + 1}. random gir\", random.randint(42, 420))\n",
    "    print()\n"
   ]
  },
  {
   "cell_type": "markdown",
   "metadata": {},
   "source": [
    "På samme måte vil <code>delete_random_nodes()</code> alltid slette samme sekvensen med noder. Hvis vi hadde instansierert et nytt graf-objekt ville vi fått en ny seed og en ny \"tilfeldig\" sekvens med noder som slettes."
   ]
  },
  {
   "cell_type": "code",
   "execution_count": null,
   "metadata": {},
   "outputs": [],
   "source": [
    "ny1 = graf.delete_random_nodes(2, print_result=True)\n",
    "ny2 = graf.delete_random_nodes(2, print_result=True)"
   ]
  },
  {
   "cell_type": "markdown",
   "metadata": {},
   "source": [
    "## BussGraph\n",
    "##### Parametere\n",
    "<ul>\n",
    "    <li>n: Antall noder i nettverket.</li>\n",
    "</ul>\n",
    "En <code>BussGraph</code> har ingen egne metoder, men arver alle metodene som ble beskrevet under seksjonen til <code>Graph</code>. Spesielt for en Buss graf er at alle noder kun er tilknyttet to andre noder."
   ]
  },
  {
   "cell_type": "code",
   "execution_count": null,
   "metadata": {},
   "outputs": [],
   "source": [
    "buss = BussGraph(10)\n",
    "buss.draw()"
   ]
  },
  {
   "cell_type": "markdown",
   "metadata": {},
   "source": [
    "## TreeGraph\n",
    "##### Parametere\n",
    "<ul>\n",
    "    <li>splits: Antall kanter per node i foreldrenode nettverket.</li>\n",
    "    <li>height: Dybden i nettverket.</li>\n",
    "</ul>\n",
    "En <code>TreeGraph</code> har ingen egne metoder, men arver alle metodene som ble beskrevet under seksjonen til <code>Graph</code>. Spesielt for en Tree graf er at en treegraf er en asyklisk enkel graf."
   ]
  },
  {
   "cell_type": "code",
   "execution_count": null,
   "metadata": {},
   "outputs": [],
   "source": [
    "tree = TreeGraph(4,2)\n",
    "tree.draw()"
   ]
  },
  {
   "cell_type": "markdown",
   "metadata": {},
   "source": [
    "## RingGraph\n",
    "##### Parametere\n",
    "<ul>\n",
    "     <li>n: Antall noder i nettverket.</li>\n",
    "</ul>\n",
    "En <code>RingGraph</code> har ingen egne metoder, men arver alle metodene som ble beskrevet under seksjonen til <code>Graph</code>. Spesielt for en Ring graf er at hver node har to kanter."
   ]
  },
  {
   "cell_type": "code",
   "execution_count": null,
   "metadata": {},
   "outputs": [],
   "source": [
    "ring = RingGraph(5)\n",
    "ring.draw()"
   ]
  },
  {
   "cell_type": "markdown",
   "metadata": {},
   "source": [
    "## StarGraph\n",
    "##### Parametere\n",
    "<ul>\n",
    "     <li>n: Antall løvnoder i nettverket.</li>\n",
    "</ul>\n",
    "En <code>StarGraph</code> har ingen egne metoder, men arver alle metodene som ble beskrevet under seksjonen til <code>Graph</code>. <br/>\n",
    "En stjerne har en node i midten og resten løvnoder."
   ]
  },
  {
   "cell_type": "code",
   "execution_count": null,
   "metadata": {},
   "outputs": [],
   "source": [
    "star = StarGraph(10)\n",
    "star.draw()"
   ]
  },
  {
   "cell_type": "markdown",
   "metadata": {},
   "source": [
    "## GridGraph\n",
    "##### Parametere\n",
    "<ul>\n",
    "    <li>height: Antall noder i høyden i nettverket.</li>\n",
    "    <li>width: Antall noder i bredden i nettverket.</li>\n",
    "</ul>\n",
    "En <code>GridGraph</code> har ingen egne metoder, men arver alle metodene som ble beskrevet under seksjonen til <code>Graph</code>."
   ]
  },
  {
   "cell_type": "code",
   "execution_count": null,
   "metadata": {},
   "outputs": [],
   "source": [
    "grid = GridGraph(7, 7)\n",
    "grid.draw()"
   ]
  },
  {
   "cell_type": "markdown",
   "metadata": {},
   "source": [
    "## MeshGraph\n",
    "##### Parametere\n",
    "<ul>\n",
    "    <li>n: Antall noder i nettverket.</li>\n",
    "</ul>\n",
    "En <code>MeshGraph</code> har ingen egne metoder, men arver alle metodene som ble beskrevet under seksjonen til <code>Graph</code>. Spesielt for en Mesh graf er at alle noder er tilknyttet alle andre noder."
   ]
  },
  {
   "cell_type": "code",
   "execution_count": null,
   "metadata": {},
   "outputs": [],
   "source": [
    "mesh = MeshGraph(7)\n",
    "mesh.draw()"
   ]
  },
  {
   "cell_type": "markdown",
   "metadata": {},
   "source": [
    "## ConstructedGraph\n",
    "##### Parametere\n",
    "<ul>\n",
    "    <li>expanded: En <code>bool</code> som bestemmer om grafen skal være en større, utvidet versjon eller ikke. Default er True.</li>\n",
    "</ul>\n",
    "<code>ConstructedGraph</code> er en klasse som lager et ferdig nettverk bestående av et kjernenettverk, 4 transportnett og aksessnett langs transportnettene. Objektene kommer i to forskjellige versjoner, expanded eller ikke. "
   ]
  },
  {
   "cell_type": "code",
   "execution_count": null,
   "metadata": {},
   "outputs": [],
   "source": [
    "const_vanlig = ConstructedGraph(expanded=False)\n",
    "const_expanded = ConstructedGraph()\n",
    "const_vanlig.draw()\n",
    "const_expanded.draw()"
   ]
  },
  {
   "cell_type": "markdown",
   "metadata": {},
   "source": [
    "## WattsStrogatz\n",
    "##### Parametere\n",
    "<ul>\n",
    "    <li>n: Antall noder i grafen.</li>\n",
    "    <li>k: Antall nabonoder som hver node skal ha kanter til. Den blir automatisk k-1 dersom k er et oddetall.</li>\n",
    "    <li>p: Sannsynligheten for at en kant (u, v) skal bli byttet ut med en annen kant (u, w).</li>\n",
    "</ul>\n",
    "En Watts-Strogatz graf lages ved å først lage en ringstruktur med n noder. Deretter vil hver node få en kant til sine k nærmeste noder (k - 1 nærmeste dersom k er et oddetall). Til slutt vil hver kant (u, v), som går fra node u til node v, bli byttet ut med en annen kant (u, w) med sannsynlighet p. w er en node som blir valgt med uniform sannsynlighet fra alle eksisterende noder unntatt node u. Når dere jobber med slike grafer som er generert ved å bruke algoritmer som bruker tilfeldigheter er det lurt å notere seg seeden slik at dere kan lage samme grafen ved et senere tidspunkt. "
   ]
  },
  {
   "cell_type": "code",
   "execution_count": null,
   "metadata": {
    "scrolled": false
   },
   "outputs": [],
   "source": [
    "ws1 = WattsStrogatz(n=50, k=4, p=0.1, seed=69)\n",
    "print(\"Seed for ws1\", ws1.seed)\n",
    "ws2 = WattsStrogatz(n=50, k=4, p=0.1)\n",
    "ws3 = WattsStrogatz(n=50, k=4, p=0.1, seed=ws1.seed)  # Setter seed til samme som  ws1 slik at de blir like\n",
    "ws1.draw()\n",
    "ws2.draw()\n",
    "ws3.draw()"
   ]
  },
  {
   "cell_type": "markdown",
   "metadata": {},
   "source": [
    "## BarabasiAlbert\n",
    "##### Parametere\n",
    "<ul>\n",
    "    <li>n: Antall noder i grafen.</li>\n",
    "    <li>m: Antall node hver nye node skal koble seg til.</li>\n",
    "</ul>\n",
    "En Barabasi-Albert graf lages ved at en og en node legges til grafen helt til det er n noder totalt. Hver node som legges til knytter seg til to andre tilfeldige noder. Sannsynligheten $p_i$ for at den nye noden skal lage en kant til node $i$ er gitt ved formelen:\n",
    "\\begin{equation*}\n",
    "p_i = \\frac{k_i}{\\sum_{j}^n k_j}\n",
    "\\end{equation*}"
   ]
  },
  {
   "cell_type": "code",
   "execution_count": null,
   "metadata": {
    "scrolled": false
   },
   "outputs": [],
   "source": [
    "ba1 = BarabasiAlbert(n=50, m=1)\n",
    "ba2 = BarabasiAlbert(n=50, m=1, seed=ba1.seed)\n",
    "ba3 = BarabasiAlbert(n=50, m=3)\n",
    "ba1.draw()\n",
    "ba2.draw()\n",
    "ba3.draw()"
   ]
  },
  {
   "cell_type": "markdown",
   "metadata": {},
   "source": [
    "## RealNetworkGraph\n",
    "##### Parametere\n",
    "<ul>\n",
    "    <li>url: En string med url-en til en graf hos topology-zoo.</li>\n",
    "</ul>\n",
    "Denne klassen bruker en url til å laste ned et graphml-dokument og representere det som en graf. For å finne url-en går du først inn på <a href=http://www.topology-zoo.org/dataset.html>http://www.topology-zoo.org/dataset.html</a>. Finn deretter et nettverk du vil laste ned og trykk på GraphML under kolonnen for downloads. Kopier url-en til siden du nå er på. NB: klassen er ikke testet for alle grafer som ligger på siden, så hvis det ikke virker så får du heller prøve et annet nettverk. "
   ]
  },
  {
   "cell_type": "code",
   "execution_count": null,
   "metadata": {},
   "outputs": [],
   "source": [
    "rn = RealNetworkGraph(\"http://www.topology-zoo.org/files/Garr200908.graphml\")"
   ]
  },
  {
   "cell_type": "markdown",
   "metadata": {},
   "source": [
    "### draw()\n",
    "##### Parametere\n",
    "<ul>\n",
    "    <li>edge_color: Fargen på kantene. Den fungerer akkurat på samme måte som <code>draw()</code>-metoden til <code>Graph</code>. Default er <code>\"#b4b4b4\"</code>.</li>\n",
    "    <li>node_color: Fargen på nodene. Gyldig input er samme som for edge_color. Default <code>\"k\"</code>.</li>\n",
    "    <li>figsize: En tuppel med høyde og bredde i inches på figuren som grafen skal tegnes i. (Jupyter kan tegne ca 15 x 15 så alt over det vil zoome ut innholdet i figuren i stedet for å øke størrelsen). Default (15, 14).</li>\n",
    "    <li>with_labels: En <code>bool</code> som bestemmer om navnene på nodene skal tegnes eller ikke. Default True</li>\n",
    "    <li>font_size: Størrelse på fonten. Default 12</li>\n",
    "    <li>node_size: Størrelse på nodene. Default 20</li>\n",
    "    <li>edge_width: Bredden på kantene. Default 0.6</li>\n",
    "</ul>\n",
    "Grunnen til at denne <code>draw()</code>-metoden har så mange flere parametre enn den generelle til <code>Graph</code> er at nettverkene fra topologi-zoo kan være svært forskjellige slik at det er ønskelig å justere tegningen deretter."
   ]
  },
  {
   "cell_type": "code",
   "execution_count": null,
   "metadata": {},
   "outputs": [],
   "source": [
    "rn.draw(font_size=15, node_size=25, node_color=\"blue\")"
   ]
  },
  {
   "cell_type": "markdown",
   "metadata": {},
   "source": [
    "## VDESGraph\n",
    "##### Parametere\n",
    "<ul>\n",
    "    <li>boat_count: Hvor mange noder i grafen som skal representere båter. Default 10.</li>\n",
    "    <li>satellite_count: Hvor mange noder i grafen som skal representere satellitter. Default 2.</li>\n",
    "    <li>radio_tower_count: Hvor mange noder i grafen som skal representere radiotårn.</li>\n",
    "</ul>\n",
    "<code>VDESGraph</code> er knyttet opp mot caset i øvingsopplegget. Med den er det mulig å definere hvor mange båter, satellitter og radiotårn det er ønskelig å ha med i utsnittet av vdes-nettverket."
   ]
  },
  {
   "cell_type": "code",
   "execution_count": null,
   "metadata": {},
   "outputs": [],
   "source": [
    "vdes = VDESGraph(boat_count=15, satellite_count=2, radio_tower_count=2)\n",
    "vdes.draw()"
   ]
  },
  {
   "cell_type": "markdown",
   "metadata": {},
   "source": [
    "# Eksempeloppgaver hente fra øvingen i fjor\n",
    "Her følger en kort introduksjonsdel (Del 1) med oppgaver tatt i fra øvingen i fjor.\n",
    "Etter oppgaven følger et løsningsforslag, husk at flere svar kan være riktige."
   ]
  },
  {
   "cell_type": "markdown",
   "metadata": {},
   "source": [
    "# Del 1: Introduksjon\n",
    "I denne delen skal vi bli kjent med hvordan man plotter grafer.\n",
    "## Oppgave 1.1\n",
    "Lag en graf ved å først opprette et objekt av klassen <code>Graph</code>. Legg deretter til 5-10 noder ved å bruke metoden <code>add_node()</code> eller <code>add_nodes_from()</code>. Legg så til kanter mellom de nodene du ønsker ved å bruke <code>add_edge()</code> eller <code>add_edges_from()</code>. Bruk til slutt metoden <code>draw()</code> for å tegne grafen."
   ]
  },
  {
   "cell_type": "code",
   "execution_count": null,
   "metadata": {},
   "outputs": [],
   "source": [
    "# Skriv koden her\n"
   ]
  },
  {
   "cell_type": "markdown",
   "metadata": {},
   "source": [
    "## Oppgave 1.2\n",
    "Man kan finne antall noder ved å bruke metoden <code>number_of_nodes()</code>. Prøv den ut på grafobjektet du opprettet i forrige oppgave og print resultatet."
   ]
  },
  {
   "cell_type": "code",
   "execution_count": null,
   "metadata": {},
   "outputs": [],
   "source": [
    "# Skriv koden her\n"
   ]
  },
  {
   "cell_type": "markdown",
   "metadata": {},
   "source": [
    "## Oppgave 1.3\n",
    "På samme måte som med noder kan man finne antallet kanter i grafen med metoden <code>number_of_edges()</code>. Bruk den på grafen fra oppgave 1.1 til å finne antall kanter i grafen og print resultatet."
   ]
  },
  {
   "cell_type": "code",
   "execution_count": null,
   "metadata": {},
   "outputs": [],
   "source": [
    "# Skriv koden her\n"
   ]
  },
  {
   "cell_type": "markdown",
   "metadata": {},
   "source": [
    "## Oppgave 1.4\n",
    "Opprett et <code>GridGraph</code>-objekt med 5 x 5 noder. Tegn korteste vei mellom node (4, 4) og (1, 2) med metoden <code>mark_shortest_path()</code>."
   ]
  },
  {
   "cell_type": "code",
   "execution_count": null,
   "metadata": {},
   "outputs": [],
   "source": [
    "# Plot grafen her\n"
   ]
  },
  {
   "cell_type": "markdown",
   "metadata": {},
   "source": [
    "## Oppgave 1.5\n",
    "Vi skal forsette å bruke grafen fra forrige oppgave. Fjern node (1, 3) og (2, 2) ved å bruke metoden <code>remove_node()</code>. Finn nå korteste vei mellom node (4, 4) og (1, 2) og tegn resultatet. (Merk at nodene ikke nødvendigvis blir tegnet på samme steder som i forrige oppgave, men den tegner en isomorf graf)"
   ]
  },
  {
   "cell_type": "code",
   "execution_count": null,
   "metadata": {},
   "outputs": [],
   "source": [
    "# Skriv koden her\n"
   ]
  },
  {
   "cell_type": "markdown",
   "metadata": {},
   "source": [
    "## Oppgave 1.6\n",
    "Hvor mange noder må minst slettes for at korteste vei mellom node (4, 4) og (1, 2) skal bli lenger enn den var i oppgave 1.5, men at det fremdeles finnes en vei?"
   ]
  },
  {
   "cell_type": "code",
   "execution_count": null,
   "metadata": {},
   "outputs": [],
   "source": [
    "# Kodecelle hvis du vil teste"
   ]
  },
  {
   "cell_type": "raw",
   "metadata": {},
   "source": [
    "Skriv svaret her\n"
   ]
  },
  {
   "cell_type": "markdown",
   "metadata": {},
   "source": [
    "Hvor mange noder må slettes for at det ikke skal eksistere noen vei mellom node (4, 4) og (1, 2), med utgangspunkt i grafen slik den er i oppgave 1.5?"
   ]
  },
  {
   "cell_type": "code",
   "execution_count": null,
   "metadata": {},
   "outputs": [],
   "source": [
    "# Kodecelle hvis du vil teste"
   ]
  },
  {
   "cell_type": "raw",
   "metadata": {},
   "source": [
    "Skriv svaret her\n"
   ]
  },
  {
   "cell_type": "markdown",
   "metadata": {},
   "source": [
    "## Oppgave 1.7\n",
    "Opprett et <code>WattsStrogatz</code>-objekt med parametre n=100, k=4 og p=0.1.\n",
    "Tegn så grafen, og finn korteste vei mellom node 53 og 75.\n"
   ]
  },
  {
   "cell_type": "code",
   "execution_count": null,
   "metadata": {},
   "outputs": [],
   "source": [
    "# Skriv koden her\n"
   ]
  },
  {
   "cell_type": "code",
   "execution_count": null,
   "metadata": {},
   "outputs": [],
   "source": [
    "# Skriv koden for korteste vei her\n"
   ]
  },
  {
   "cell_type": "markdown",
   "metadata": {},
   "source": [
    "# Del 1: Introduksjon LF\n",
    "I denne delen skal vi bli kjent med hvordan man plotter grafer.\n",
    "## Oppgave 1.1\n",
    "Lag en graf ved å først opprette et objekt av klassen <code>Graph</code>. Legg deretter til 5-10 noder ved å bruke metoden <code>add_node()</code> eller <code>add_nodes_from()</code>. Legg så til kanter mellom de nodene du ønsker ved å bruke <code>add_edge()</code> eller <code>add_edges_from()</code>. Bruk til slutt metoden <code>draw()</code> for å tegne grafen."
   ]
  },
  {
   "cell_type": "code",
   "execution_count": null,
   "metadata": {},
   "outputs": [],
   "source": [
    "# Skriv koden her\n",
    "\n",
    "#LF\n",
    "eksempelgraf = Graph()\n",
    "eksempelgraf.add_node(1)\n",
    "eksempelgraf.add_nodes_from([2, 3, 4, 5, 6])\n",
    "eksempelgraf.add_edge(1, 5)\n",
    "eksempelgraf.add_edges_from([(1, 3), (1, 2), (5, 3), (3, 2), (1, 4), (1, 6)])\n",
    "eksempelgraf.draw()"
   ]
  },
  {
   "cell_type": "markdown",
   "metadata": {},
   "source": [
    "## Oppgave 1.2\n",
    "Man kan finne antall noder ved å bruke metoden <code>number_of_nodes()</code>. Prøv den ut på grafobjektet du opprettet i forrige oppgave og print resultatet."
   ]
  },
  {
   "cell_type": "code",
   "execution_count": null,
   "metadata": {},
   "outputs": [],
   "source": [
    "# Skriv koden her\n",
    "\n",
    "#LF\n",
    "print(eksempelgraf.number_of_nodes())"
   ]
  },
  {
   "cell_type": "markdown",
   "metadata": {},
   "source": [
    "## Oppgave 1.3\n",
    "På samme måte som med noder kan man finne antallet kanter i grafen med metoden <code>number_of_edges()</code>. Bruk den på grafen fra oppgave 1.1 til å finne antall kanter i grafen og print resultatet."
   ]
  },
  {
   "cell_type": "code",
   "execution_count": null,
   "metadata": {},
   "outputs": [],
   "source": [
    "# Skriv koden her\n",
    "\n",
    "#LF\n",
    "print(eksempelgraf.number_of_edges())"
   ]
  },
  {
   "cell_type": "markdown",
   "metadata": {},
   "source": [
    "## Oppgave 1.4\n",
    "Opprett et <code>GridGraph</code>-objekt med 5 x 5 noder. Tegn korteste vei mellom node (4, 4) og (1, 2) med metoden <code>mark_shortest_path()</code>."
   ]
  },
  {
   "cell_type": "code",
   "execution_count": null,
   "metadata": {},
   "outputs": [],
   "source": [
    "# Plot grafen her\n",
    "\n",
    "#LF\n",
    "grid = GridGraph(5, 5)\n",
    "grid.mark_shortest_path((4, 4), (1, 2))"
   ]
  },
  {
   "cell_type": "markdown",
   "metadata": {},
   "source": [
    "## Oppgave 1.5\n",
    "Vi skal forsette å bruke grafen fra forrige oppgave. Fjern node (1, 3) og (2, 2) ved å bruke metoden <code>remove_node()</code>. Finn nå korteste vei mellom node (4, 4) og (1, 2) og tegn resultatet. (Merk at nodene ikke nødvendigvis blir tegnet på samme steder som i forrige oppgave, men den tegner en isomorf graf)"
   ]
  },
  {
   "cell_type": "code",
   "execution_count": null,
   "metadata": {},
   "outputs": [],
   "source": [
    "# Skriv koden her\n",
    "\n",
    "#LF\n",
    "grid.remove_node((1, 3))\n",
    "grid.remove_node((2, 2))\n",
    "# eventuelt grid.remove_nodes_from([(1, 3), (2, 2)])\n",
    "grid.mark_shortest_path((4, 4), (1, 2))"
   ]
  },
  {
   "cell_type": "markdown",
   "metadata": {},
   "source": [
    "## Oppgave 1.6\n",
    "Hvor mange noder må minst slettes for at korteste vei mellom node (4, 4) og (1, 2) skal bli lenger enn den var i oppgave 1.5, men at det fremdeles finnes en vei?"
   ]
  },
  {
   "cell_type": "code",
   "execution_count": null,
   "metadata": {},
   "outputs": [],
   "source": [
    "# Kodecelle hvis du vil teste"
   ]
  },
  {
   "cell_type": "raw",
   "metadata": {},
   "source": [
    "LF:\n",
    "2"
   ]
  },
  {
   "cell_type": "markdown",
   "metadata": {},
   "source": [
    "Hvor mange noder må slettes for at det ikke skal eksistere noen vei mellom node (4, 4) og (1, 2), med utgangspunkt i grafen slik den er i oppgave 1.5?"
   ]
  },
  {
   "cell_type": "code",
   "execution_count": null,
   "metadata": {},
   "outputs": [],
   "source": [
    "# Kodecelle hvis du vil teste"
   ]
  },
  {
   "cell_type": "raw",
   "metadata": {},
   "source": [
    "LF:\n",
    "2"
   ]
  },
  {
   "cell_type": "markdown",
   "metadata": {},
   "source": [
    "## Oppgave 1.7\n",
    "Opprett et <code>WattsStrogatz</code>-objekt med parametre n=100, k=4 og p=0.1.\n",
    "Tegn så grafen, og finn korteste vei mellom node 53 og 75.\n"
   ]
  },
  {
   "cell_type": "code",
   "execution_count": null,
   "metadata": {},
   "outputs": [],
   "source": [
    "# Skriv koden her\n",
    "ws = WattsStrogatz(100, 4, 0.1)\n",
    "ws.draw()"
   ]
  },
  {
   "cell_type": "code",
   "execution_count": null,
   "metadata": {},
   "outputs": [],
   "source": [
    "# Skriv koden for korteste vei her\n",
    "ws.mark_shortest_path(53, 75)"
   ]
  }
 ],
 "metadata": {
  "kernelspec": {
   "display_name": "Python 3",
   "language": "python",
   "name": "python3"
  },
  "language_info": {
   "codemirror_mode": {
    "name": "ipython",
    "version": 3
   },
   "file_extension": ".py",
   "mimetype": "text/x-python",
   "name": "python",
   "nbconvert_exporter": "python",
   "pygments_lexer": "ipython3",
   "version": "3.8.5"
  }
 },
 "nbformat": 4,
 "nbformat_minor": 4
}
